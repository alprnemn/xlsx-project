{
 "cells": [
  {
   "cell_type": "code",
   "id": "initial_id",
   "metadata": {
    "collapsed": true,
    "ExecuteTime": {
     "end_time": "2025-07-24T09:30:31.352813Z",
     "start_time": "2025-07-24T09:30:31.112586Z"
    }
   },
   "source": [
    "import pandas as pd\n",
    "from utils import fetch_df_from_external_api,get_labelids_from_df"
   ],
   "outputs": [],
   "execution_count": 1
  },
  {
   "metadata": {
    "ExecuteTime": {
     "end_time": "2025-07-24T09:30:35.302499Z",
     "start_time": "2025-07-24T09:30:32.383358Z"
    }
   },
   "cell_type": "code",
   "source": [
    "df_ex = fetch_df_from_external_api()\n",
    "\n",
    "df_client = pd.read_csv(\"vehicles.csv\",sep=\";\")\n",
    "\n",
    "df_ex_copy = df_ex.copy()\n",
    "df_client_copy = df_client.copy()"
   ],
   "id": "7225eeed48508056",
   "outputs": [],
   "execution_count": 2
  },
  {
   "metadata": {
    "ExecuteTime": {
     "end_time": "2025-07-24T09:30:35.945371Z",
     "start_time": "2025-07-24T09:30:35.937370Z"
    }
   },
   "cell_type": "code",
   "source": "df_client_copy.info()",
   "id": "147c33aee23a672f",
   "outputs": [
    {
     "name": "stdout",
     "output_type": "stream",
     "text": [
      "<class 'pandas.core.frame.DataFrame'>\n",
      "RangeIndex: 42 entries, 0 to 41\n",
      "Data columns (total 6 columns):\n",
      " #   Column    Non-Null Count  Dtype  \n",
      "---  ------    --------------  -----  \n",
      " 0   gruppe    39 non-null     object \n",
      " 1   kurzname  42 non-null     object \n",
      " 2   langtext  31 non-null     object \n",
      " 3   info      17 non-null     object \n",
      " 4   lagerort  37 non-null     object \n",
      " 5   labelIds  3 non-null      float64\n",
      "dtypes: float64(1), object(5)\n",
      "memory usage: 2.1+ KB\n"
     ]
    }
   ],
   "execution_count": 3
  },
  {
   "metadata": {
    "ExecuteTime": {
     "end_time": "2025-07-24T09:30:36.724514Z",
     "start_time": "2025-07-24T09:30:36.719209Z"
    }
   },
   "cell_type": "code",
   "source": "df_ex_copy.info()",
   "id": "f09fa99c4634c629",
   "outputs": [
    {
     "name": "stdout",
     "output_type": "stream",
     "text": [
      "<class 'pandas.core.frame.DataFrame'>\n",
      "RangeIndex: 127 entries, 0 to 126\n",
      "Data columns (total 30 columns):\n",
      " #   Column              Non-Null Count  Dtype \n",
      "---  ------              --------------  ----- \n",
      " 0   rnr                 127 non-null    object\n",
      " 1   gruppe              127 non-null    object\n",
      " 2   kurzname            127 non-null    object\n",
      " 3   langtext            127 non-null    object\n",
      " 4   info                127 non-null    object\n",
      " 5   sort                127 non-null    object\n",
      " 6   lagerort            127 non-null    object\n",
      " 7   lteartikel          127 non-null    object\n",
      " 8   businessUnit        127 non-null    object\n",
      " 9   vondat              126 non-null    object\n",
      " 10  bisdat              8 non-null      object\n",
      " 11  hu                  29 non-null     object\n",
      " 12  asu                 8 non-null      object\n",
      " 13  createdOn           92 non-null     object\n",
      " 14  editedOn            127 non-null    object\n",
      " 15  editedBy            0 non-null      object\n",
      " 16  fuelConsumption     127 non-null    object\n",
      " 17  priceInformation    121 non-null    object\n",
      " 18  safetyCheckDate     1 non-null      object\n",
      " 19  tachographTestDate  0 non-null      object\n",
      " 20  gb1                 127 non-null    object\n",
      " 21  ownerId             1 non-null      object\n",
      " 22  userId              23 non-null     object\n",
      " 23  externalId          120 non-null    object\n",
      " 24  vin                 119 non-null    object\n",
      " 25  labelIds            6 non-null      object\n",
      " 26  customDataSchemas   127 non-null    object\n",
      " 27  bleGroupEnum        8 non-null      object\n",
      " 28  profilePictureUrl   98 non-null     object\n",
      " 29  thumbPathUrl        98 non-null     object\n",
      "dtypes: object(30)\n",
      "memory usage: 29.9+ KB\n"
     ]
    }
   ],
   "execution_count": 4
  },
  {
   "metadata": {
    "ExecuteTime": {
     "end_time": "2025-07-24T09:30:38.192559Z",
     "start_time": "2025-07-24T09:30:38.186813Z"
    }
   },
   "cell_type": "code",
   "source": "df_client_copy['kurzname'].nunique()",
   "id": "6c0f2bfcb848736e",
   "outputs": [
    {
     "data": {
      "text/plain": [
       "42"
      ]
     },
     "execution_count": 5,
     "metadata": {},
     "output_type": "execute_result"
    }
   ],
   "execution_count": 5
  },
  {
   "metadata": {
    "ExecuteTime": {
     "end_time": "2025-07-24T09:30:39.023829Z",
     "start_time": "2025-07-24T09:30:39.018817Z"
    }
   },
   "cell_type": "code",
   "source": "df_ex_copy['kurzname'].nunique()",
   "id": "9425002a40534bdd",
   "outputs": [
    {
     "data": {
      "text/plain": [
       "119"
      ]
     },
     "execution_count": 6,
     "metadata": {},
     "output_type": "execute_result"
    }
   ],
   "execution_count": 6
  },
  {
   "metadata": {
    "ExecuteTime": {
     "end_time": "2025-07-24T09:30:39.849513Z",
     "start_time": "2025-07-24T09:30:39.844746Z"
    }
   },
   "cell_type": "code",
   "source": "print(len(df_ex_copy) - df_ex_copy['kurzname'].nunique(),\"duplicated value\")",
   "id": "ed76e48864e0c64b",
   "outputs": [
    {
     "name": "stdout",
     "output_type": "stream",
     "text": [
      "8 duplicated value\n"
     ]
    }
   ],
   "execution_count": 7
  },
  {
   "metadata": {
    "ExecuteTime": {
     "end_time": "2025-07-24T09:30:40.684088Z",
     "start_time": "2025-07-24T09:30:40.679912Z"
    }
   },
   "cell_type": "code",
   "source": "df_ex_copy = df_ex_copy[['rnr','gruppe','kurzname','langtext','info','lagerort','labelIds','hu']]",
   "id": "bcf203535171974c",
   "outputs": [],
   "execution_count": 8
  },
  {
   "metadata": {
    "ExecuteTime": {
     "end_time": "2025-07-24T09:30:41.353493Z",
     "start_time": "2025-07-24T09:30:41.348503Z"
    }
   },
   "cell_type": "code",
   "source": "df_concatenated = pd.concat([df_ex_copy, df_client_copy], ignore_index=True)",
   "id": "1c81bee33874423",
   "outputs": [],
   "execution_count": 9
  },
  {
   "metadata": {
    "ExecuteTime": {
     "end_time": "2025-07-24T09:30:42.096070Z",
     "start_time": "2025-07-24T09:30:42.088687Z"
    }
   },
   "cell_type": "code",
   "source": "df_concatenated.info()",
   "id": "ff57f1e65165a104",
   "outputs": [
    {
     "name": "stdout",
     "output_type": "stream",
     "text": [
      "<class 'pandas.core.frame.DataFrame'>\n",
      "RangeIndex: 169 entries, 0 to 168\n",
      "Data columns (total 8 columns):\n",
      " #   Column    Non-Null Count  Dtype \n",
      "---  ------    --------------  ----- \n",
      " 0   rnr       127 non-null    object\n",
      " 1   gruppe    166 non-null    object\n",
      " 2   kurzname  169 non-null    object\n",
      " 3   langtext  158 non-null    object\n",
      " 4   info      144 non-null    object\n",
      " 5   lagerort  164 non-null    object\n",
      " 6   labelIds  9 non-null      object\n",
      " 7   hu        29 non-null     object\n",
      "dtypes: object(8)\n",
      "memory usage: 10.7+ KB\n"
     ]
    }
   ],
   "execution_count": 10
  },
  {
   "metadata": {
    "ExecuteTime": {
     "end_time": "2025-07-24T09:30:43.542992Z",
     "start_time": "2025-07-24T09:30:43.538390Z"
    }
   },
   "cell_type": "code",
   "source": "df_concatenated = df_concatenated.drop_duplicates(subset='kurzname', ignore_index=True)",
   "id": "b6bb523dcec07d6",
   "outputs": [],
   "execution_count": 11
  },
  {
   "metadata": {
    "ExecuteTime": {
     "end_time": "2025-07-24T09:30:44.323781Z",
     "start_time": "2025-07-24T09:30:44.317325Z"
    }
   },
   "cell_type": "code",
   "source": "df_concatenated.info()",
   "id": "5ff1d568e304452c",
   "outputs": [
    {
     "name": "stdout",
     "output_type": "stream",
     "text": [
      "<class 'pandas.core.frame.DataFrame'>\n",
      "RangeIndex: 128 entries, 0 to 127\n",
      "Data columns (total 8 columns):\n",
      " #   Column    Non-Null Count  Dtype \n",
      "---  ------    --------------  ----- \n",
      " 0   rnr       119 non-null    object\n",
      " 1   gruppe    128 non-null    object\n",
      " 2   kurzname  128 non-null    object\n",
      " 3   langtext  125 non-null    object\n",
      " 4   info      121 non-null    object\n",
      " 5   lagerort  127 non-null    object\n",
      " 6   labelIds  7 non-null      object\n",
      " 7   hu        26 non-null     object\n",
      "dtypes: object(8)\n",
      "memory usage: 8.1+ KB\n"
     ]
    }
   ],
   "execution_count": 12
  },
  {
   "metadata": {
    "ExecuteTime": {
     "end_time": "2025-07-24T09:30:45.291677Z",
     "start_time": "2025-07-24T09:30:45.288318Z"
    }
   },
   "cell_type": "code",
   "source": "df_concatenated.dropna(subset=['hu'], inplace=True)",
   "id": "f9206c92b8ccba4d",
   "outputs": [],
   "execution_count": 13
  },
  {
   "metadata": {
    "ExecuteTime": {
     "end_time": "2025-07-24T09:30:46.299298Z",
     "start_time": "2025-07-24T09:30:46.292507Z"
    }
   },
   "cell_type": "code",
   "source": "df_concatenated.info()",
   "id": "a2675d134e45a4e6",
   "outputs": [
    {
     "name": "stdout",
     "output_type": "stream",
     "text": [
      "<class 'pandas.core.frame.DataFrame'>\n",
      "Index: 26 entries, 0 to 106\n",
      "Data columns (total 8 columns):\n",
      " #   Column    Non-Null Count  Dtype \n",
      "---  ------    --------------  ----- \n",
      " 0   rnr       26 non-null     object\n",
      " 1   gruppe    26 non-null     object\n",
      " 2   kurzname  26 non-null     object\n",
      " 3   langtext  26 non-null     object\n",
      " 4   info      26 non-null     object\n",
      " 5   lagerort  26 non-null     object\n",
      " 6   labelIds  0 non-null      object\n",
      " 7   hu        26 non-null     object\n",
      "dtypes: object(8)\n",
      "memory usage: 1.8+ KB\n"
     ]
    }
   ],
   "execution_count": 14
  },
  {
   "metadata": {
    "ExecuteTime": {
     "end_time": "2025-07-24T09:30:47.141680Z",
     "start_time": "2025-07-24T09:30:47.129513Z"
    }
   },
   "cell_type": "code",
   "source": "df_concatenated.head(50)",
   "id": "860130be5b9260d3",
   "outputs": [
    {
     "data": {
      "text/plain": [
       "     rnr           gruppe                                kurzname  \\\n",
       "0     10        Fahrzeuge                   PB V 1300 (Container)   \n",
       "1     11        Fahrzeuge                 PB V 1400 (LKW m. Kran)   \n",
       "2     15        Fahrzeuge             PB- VR 1500 (blauer MB 814)   \n",
       "3     20        Fahrzeuge               PB XY 265 (Staplerhänger)   \n",
       "4     21        Fahrzeuge                  PB-XY 406 (PKW Hänger)   \n",
       "5     22        Fahrzeuge                  PB V 1700 (LKW Hänger)   \n",
       "6     23        Fahrzeuge                 PB HM 7001 (PKW Hänger)   \n",
       "7     24        Fahrzeuge                  PB RP 611 (PKW Hänger)   \n",
       "9     30        Fahrzeuge           PB VR 900 (Johne) // 7 Sitzer   \n",
       "10    31        Fahrzeuge                   PB VR 1600 (3-sitzer)   \n",
       "11    33        Fahrzeuge          PB VR 1700 (Lemke) // 7 Sitzer   \n",
       "12    34        Fahrzeuge                 PB VR 1800  // 3 Sitzer   \n",
       "13    35        Fahrzeuge                PB VR 10H (Merceds grün)   \n",
       "20    45        Fahrzeuge                        PB VR 79 (Atego)   \n",
       "22    49  Hand - Werkzeug                        TITAN Nr. 72 252   \n",
       "23    50  Hand - Werkzeug                        TITAN Nr. 72 253   \n",
       "24    51  Hand - Werkzeug                        TITAN Nr. 72 254   \n",
       "27    54        Fahrzeuge                                PB VR 83   \n",
       "32    63        Fahrzeuge                    PB OJ422 // 6 Sitzer   \n",
       "33    66        Fahrzeuge                        PB VR 70 (Atego)   \n",
       "35    68       Bauaufzüge                       HEK GTP 1500 Dual   \n",
       "38    71        Fahrzeuge                   PB VR 555 // 7 Sitzer   \n",
       "63   102        Fahrzeuge                      VW Golf LIP-QT 641   \n",
       "77   118        Fahrzeuge                              PB SW 3000   \n",
       "97   139         Anhänger  LDK MD 160  Anhänger mit Auffahrrampen   \n",
       "106  149                                           Linde H20 (LG)   \n",
       "\n",
       "                                              langtext  \\\n",
       "0                    MAN 26.440 Kennzeichen PB V 1300.   \n",
       "1                     MAN 26.440 Kennzeichen PB V 1400   \n",
       "2                  Mercedes Benz 814 Pritschenfahrzeug   \n",
       "3                                                        \n",
       "4                       PKW Anhänger mit Alubordwänden   \n",
       "5                                     Kröger Plattform   \n",
       "6                         Bien, Geseke\\nSdah Plattform   \n",
       "7                                                        \n",
       "9                               Mercedes Benz Sprinter   \n",
       "10                             Sprinter offener Kasten   \n",
       "11                                            Sprinter   \n",
       "12                              Mercedes Benz Sprinter   \n",
       "13                                    Mercedes Typ 809   \n",
       "20                                          LKW 7.5 to   \n",
       "22   Die Kombination besteht aus dem Wagen wo das S...   \n",
       "23                                                       \n",
       "24   Die Kombination besteht aus dem Wagen wo das S...   \n",
       "27                                       Mercedes Benz   \n",
       "32                                                       \n",
       "33   Mercedes  LKW offener Kasten\\nUpdate am 15.01....   \n",
       "35                      Alimak Bauaufzug GTP 1500 Dual   \n",
       "38                                             317 CDI   \n",
       "63                                                       \n",
       "77                                                       \n",
       "97                      LKW Anhänger mit Auffahrrampen   \n",
       "106                                  Stapler Linde H20   \n",
       "\n",
       "                                                  info          lagerort  \\\n",
       "0    Dieses Fahrzeug wurde für den Gerüstbau angesc...         Paderborn   \n",
       "1    Dieses Fahrzeug wurde für den Gerüstbau angesc...         Paderborn   \n",
       "2    Dieses Fahrzeug wurde für den Gerüstbau angesc...         Paderborn   \n",
       "3                                                              Paderborn   \n",
       "4                                      2.2 to Zuladung         Paderborn   \n",
       "5                                                              Paderborn   \n",
       "6               Seit 2016 bei Frank Stelzer im Einsatz         Paderborn   \n",
       "7                                                              Paderborn   \n",
       "9    Führerschein B\\n\\n!8.9.2023\\nZu prüfen in rege...         Paderborn   \n",
       "10                                                             Paderborn   \n",
       "11   !8.9.2023\\nZu prüfen in regelmäßigen Abständen...         Paderborn   \n",
       "12   Führerscheinklasse B\\n\\n- -\\n03.01.2024\\nZu pr...         Paderborn   \n",
       "13      Zul. Gesamtgewicht : 7,5 to\\nNutzlast : 3,6 to         Paderborn   \n",
       "20   !8.9.2023\\nZu prüfen in regelmäßigen Abständen...         Paderborn   \n",
       "22                                                            Lagerplatz   \n",
       "23                                                      Internes Lager 1   \n",
       "24                                                        Internes Lager   \n",
       "27   !8.9.2023\\nZu prüfen in regelmäßigen Abständen...         Paderborn   \n",
       "32   Update 25.10.2023: Das Fahrzeug hat die HU ohn...         Paderborn   \n",
       "33   !8.9.2023\\nZu prüfen in regelmäßigen Abständen...         Paderborn   \n",
       "35   Hat Fa. Vero von Bilfinger Arnhold gekauft.\\nD...         Paderborn   \n",
       "38   !8.9.2023\\nZu prüfen in regelmäßigen Abständen...         Paderborn   \n",
       "63                                                                         \n",
       "77                                                                         \n",
       "97                               TÜV fällig in 07 2024         Paderborn   \n",
       "106                                                                        \n",
       "\n",
       "    labelIds          hu  \n",
       "0       None  2023-05-31  \n",
       "1       None  2023-11-30  \n",
       "2       None  2019-07-31  \n",
       "3       None  2019-09-01  \n",
       "4       None  2017-03-01  \n",
       "5       None  2024-05-31  \n",
       "6       None  2025-07-01  \n",
       "7       None  2024-02-29  \n",
       "9       None  2025-06-30  \n",
       "10      None  2020-03-01  \n",
       "11      None  2024-02-29  \n",
       "12      None  2025-06-30  \n",
       "13      None  2017-09-01  \n",
       "20      None  2024-09-30  \n",
       "22      None  2021-12-17  \n",
       "23      None  2022-01-04  \n",
       "24      None  2022-01-04  \n",
       "27      None  2023-11-30  \n",
       "32      None  2025-09-30  \n",
       "33      None  2024-09-30  \n",
       "35      None  2026-02-28  \n",
       "38      None  2025-02-01  \n",
       "63      None  2023-10-31  \n",
       "77      None  2025-10-31  \n",
       "97      None  2024-07-01  \n",
       "106     None  2025-07-01  "
      ],
      "text/html": [
       "<div>\n",
       "<style scoped>\n",
       "    .dataframe tbody tr th:only-of-type {\n",
       "        vertical-align: middle;\n",
       "    }\n",
       "\n",
       "    .dataframe tbody tr th {\n",
       "        vertical-align: top;\n",
       "    }\n",
       "\n",
       "    .dataframe thead th {\n",
       "        text-align: right;\n",
       "    }\n",
       "</style>\n",
       "<table border=\"1\" class=\"dataframe\">\n",
       "  <thead>\n",
       "    <tr style=\"text-align: right;\">\n",
       "      <th></th>\n",
       "      <th>rnr</th>\n",
       "      <th>gruppe</th>\n",
       "      <th>kurzname</th>\n",
       "      <th>langtext</th>\n",
       "      <th>info</th>\n",
       "      <th>lagerort</th>\n",
       "      <th>labelIds</th>\n",
       "      <th>hu</th>\n",
       "    </tr>\n",
       "  </thead>\n",
       "  <tbody>\n",
       "    <tr>\n",
       "      <th>0</th>\n",
       "      <td>10</td>\n",
       "      <td>Fahrzeuge</td>\n",
       "      <td>PB V 1300 (Container)</td>\n",
       "      <td>MAN 26.440 Kennzeichen PB V 1300.</td>\n",
       "      <td>Dieses Fahrzeug wurde für den Gerüstbau angesc...</td>\n",
       "      <td>Paderborn</td>\n",
       "      <td>None</td>\n",
       "      <td>2023-05-31</td>\n",
       "    </tr>\n",
       "    <tr>\n",
       "      <th>1</th>\n",
       "      <td>11</td>\n",
       "      <td>Fahrzeuge</td>\n",
       "      <td>PB V 1400 (LKW m. Kran)</td>\n",
       "      <td>MAN 26.440 Kennzeichen PB V 1400</td>\n",
       "      <td>Dieses Fahrzeug wurde für den Gerüstbau angesc...</td>\n",
       "      <td>Paderborn</td>\n",
       "      <td>None</td>\n",
       "      <td>2023-11-30</td>\n",
       "    </tr>\n",
       "    <tr>\n",
       "      <th>2</th>\n",
       "      <td>15</td>\n",
       "      <td>Fahrzeuge</td>\n",
       "      <td>PB- VR 1500 (blauer MB 814)</td>\n",
       "      <td>Mercedes Benz 814 Pritschenfahrzeug</td>\n",
       "      <td>Dieses Fahrzeug wurde für den Gerüstbau angesc...</td>\n",
       "      <td>Paderborn</td>\n",
       "      <td>None</td>\n",
       "      <td>2019-07-31</td>\n",
       "    </tr>\n",
       "    <tr>\n",
       "      <th>3</th>\n",
       "      <td>20</td>\n",
       "      <td>Fahrzeuge</td>\n",
       "      <td>PB XY 265 (Staplerhänger)</td>\n",
       "      <td></td>\n",
       "      <td></td>\n",
       "      <td>Paderborn</td>\n",
       "      <td>None</td>\n",
       "      <td>2019-09-01</td>\n",
       "    </tr>\n",
       "    <tr>\n",
       "      <th>4</th>\n",
       "      <td>21</td>\n",
       "      <td>Fahrzeuge</td>\n",
       "      <td>PB-XY 406 (PKW Hänger)</td>\n",
       "      <td>PKW Anhänger mit Alubordwänden</td>\n",
       "      <td>2.2 to Zuladung</td>\n",
       "      <td>Paderborn</td>\n",
       "      <td>None</td>\n",
       "      <td>2017-03-01</td>\n",
       "    </tr>\n",
       "    <tr>\n",
       "      <th>5</th>\n",
       "      <td>22</td>\n",
       "      <td>Fahrzeuge</td>\n",
       "      <td>PB V 1700 (LKW Hänger)</td>\n",
       "      <td>Kröger Plattform</td>\n",
       "      <td></td>\n",
       "      <td>Paderborn</td>\n",
       "      <td>None</td>\n",
       "      <td>2024-05-31</td>\n",
       "    </tr>\n",
       "    <tr>\n",
       "      <th>6</th>\n",
       "      <td>23</td>\n",
       "      <td>Fahrzeuge</td>\n",
       "      <td>PB HM 7001 (PKW Hänger)</td>\n",
       "      <td>Bien, Geseke\\nSdah Plattform</td>\n",
       "      <td>Seit 2016 bei Frank Stelzer im Einsatz</td>\n",
       "      <td>Paderborn</td>\n",
       "      <td>None</td>\n",
       "      <td>2025-07-01</td>\n",
       "    </tr>\n",
       "    <tr>\n",
       "      <th>7</th>\n",
       "      <td>24</td>\n",
       "      <td>Fahrzeuge</td>\n",
       "      <td>PB RP 611 (PKW Hänger)</td>\n",
       "      <td></td>\n",
       "      <td></td>\n",
       "      <td>Paderborn</td>\n",
       "      <td>None</td>\n",
       "      <td>2024-02-29</td>\n",
       "    </tr>\n",
       "    <tr>\n",
       "      <th>9</th>\n",
       "      <td>30</td>\n",
       "      <td>Fahrzeuge</td>\n",
       "      <td>PB VR 900 (Johne) // 7 Sitzer</td>\n",
       "      <td>Mercedes Benz Sprinter</td>\n",
       "      <td>Führerschein B\\n\\n!8.9.2023\\nZu prüfen in rege...</td>\n",
       "      <td>Paderborn</td>\n",
       "      <td>None</td>\n",
       "      <td>2025-06-30</td>\n",
       "    </tr>\n",
       "    <tr>\n",
       "      <th>10</th>\n",
       "      <td>31</td>\n",
       "      <td>Fahrzeuge</td>\n",
       "      <td>PB VR 1600 (3-sitzer)</td>\n",
       "      <td>Sprinter offener Kasten</td>\n",
       "      <td></td>\n",
       "      <td>Paderborn</td>\n",
       "      <td>None</td>\n",
       "      <td>2020-03-01</td>\n",
       "    </tr>\n",
       "    <tr>\n",
       "      <th>11</th>\n",
       "      <td>33</td>\n",
       "      <td>Fahrzeuge</td>\n",
       "      <td>PB VR 1700 (Lemke) // 7 Sitzer</td>\n",
       "      <td>Sprinter</td>\n",
       "      <td>!8.9.2023\\nZu prüfen in regelmäßigen Abständen...</td>\n",
       "      <td>Paderborn</td>\n",
       "      <td>None</td>\n",
       "      <td>2024-02-29</td>\n",
       "    </tr>\n",
       "    <tr>\n",
       "      <th>12</th>\n",
       "      <td>34</td>\n",
       "      <td>Fahrzeuge</td>\n",
       "      <td>PB VR 1800  // 3 Sitzer</td>\n",
       "      <td>Mercedes Benz Sprinter</td>\n",
       "      <td>Führerscheinklasse B\\n\\n- -\\n03.01.2024\\nZu pr...</td>\n",
       "      <td>Paderborn</td>\n",
       "      <td>None</td>\n",
       "      <td>2025-06-30</td>\n",
       "    </tr>\n",
       "    <tr>\n",
       "      <th>13</th>\n",
       "      <td>35</td>\n",
       "      <td>Fahrzeuge</td>\n",
       "      <td>PB VR 10H (Merceds grün)</td>\n",
       "      <td>Mercedes Typ 809</td>\n",
       "      <td>Zul. Gesamtgewicht : 7,5 to\\nNutzlast : 3,6 to</td>\n",
       "      <td>Paderborn</td>\n",
       "      <td>None</td>\n",
       "      <td>2017-09-01</td>\n",
       "    </tr>\n",
       "    <tr>\n",
       "      <th>20</th>\n",
       "      <td>45</td>\n",
       "      <td>Fahrzeuge</td>\n",
       "      <td>PB VR 79 (Atego)</td>\n",
       "      <td>LKW 7.5 to</td>\n",
       "      <td>!8.9.2023\\nZu prüfen in regelmäßigen Abständen...</td>\n",
       "      <td>Paderborn</td>\n",
       "      <td>None</td>\n",
       "      <td>2024-09-30</td>\n",
       "    </tr>\n",
       "    <tr>\n",
       "      <th>22</th>\n",
       "      <td>49</td>\n",
       "      <td>Hand - Werkzeug</td>\n",
       "      <td>TITAN Nr. 72 252</td>\n",
       "      <td>Die Kombination besteht aus dem Wagen wo das S...</td>\n",
       "      <td></td>\n",
       "      <td>Lagerplatz</td>\n",
       "      <td>None</td>\n",
       "      <td>2021-12-17</td>\n",
       "    </tr>\n",
       "    <tr>\n",
       "      <th>23</th>\n",
       "      <td>50</td>\n",
       "      <td>Hand - Werkzeug</td>\n",
       "      <td>TITAN Nr. 72 253</td>\n",
       "      <td></td>\n",
       "      <td></td>\n",
       "      <td>Internes Lager 1</td>\n",
       "      <td>None</td>\n",
       "      <td>2022-01-04</td>\n",
       "    </tr>\n",
       "    <tr>\n",
       "      <th>24</th>\n",
       "      <td>51</td>\n",
       "      <td>Hand - Werkzeug</td>\n",
       "      <td>TITAN Nr. 72 254</td>\n",
       "      <td>Die Kombination besteht aus dem Wagen wo das S...</td>\n",
       "      <td></td>\n",
       "      <td>Internes Lager</td>\n",
       "      <td>None</td>\n",
       "      <td>2022-01-04</td>\n",
       "    </tr>\n",
       "    <tr>\n",
       "      <th>27</th>\n",
       "      <td>54</td>\n",
       "      <td>Fahrzeuge</td>\n",
       "      <td>PB VR 83</td>\n",
       "      <td>Mercedes Benz</td>\n",
       "      <td>!8.9.2023\\nZu prüfen in regelmäßigen Abständen...</td>\n",
       "      <td>Paderborn</td>\n",
       "      <td>None</td>\n",
       "      <td>2023-11-30</td>\n",
       "    </tr>\n",
       "    <tr>\n",
       "      <th>32</th>\n",
       "      <td>63</td>\n",
       "      <td>Fahrzeuge</td>\n",
       "      <td>PB OJ422 // 6 Sitzer</td>\n",
       "      <td></td>\n",
       "      <td>Update 25.10.2023: Das Fahrzeug hat die HU ohn...</td>\n",
       "      <td>Paderborn</td>\n",
       "      <td>None</td>\n",
       "      <td>2025-09-30</td>\n",
       "    </tr>\n",
       "    <tr>\n",
       "      <th>33</th>\n",
       "      <td>66</td>\n",
       "      <td>Fahrzeuge</td>\n",
       "      <td>PB VR 70 (Atego)</td>\n",
       "      <td>Mercedes  LKW offener Kasten\\nUpdate am 15.01....</td>\n",
       "      <td>!8.9.2023\\nZu prüfen in regelmäßigen Abständen...</td>\n",
       "      <td>Paderborn</td>\n",
       "      <td>None</td>\n",
       "      <td>2024-09-30</td>\n",
       "    </tr>\n",
       "    <tr>\n",
       "      <th>35</th>\n",
       "      <td>68</td>\n",
       "      <td>Bauaufzüge</td>\n",
       "      <td>HEK GTP 1500 Dual</td>\n",
       "      <td>Alimak Bauaufzug GTP 1500 Dual</td>\n",
       "      <td>Hat Fa. Vero von Bilfinger Arnhold gekauft.\\nD...</td>\n",
       "      <td>Paderborn</td>\n",
       "      <td>None</td>\n",
       "      <td>2026-02-28</td>\n",
       "    </tr>\n",
       "    <tr>\n",
       "      <th>38</th>\n",
       "      <td>71</td>\n",
       "      <td>Fahrzeuge</td>\n",
       "      <td>PB VR 555 // 7 Sitzer</td>\n",
       "      <td>317 CDI</td>\n",
       "      <td>!8.9.2023\\nZu prüfen in regelmäßigen Abständen...</td>\n",
       "      <td>Paderborn</td>\n",
       "      <td>None</td>\n",
       "      <td>2025-02-01</td>\n",
       "    </tr>\n",
       "    <tr>\n",
       "      <th>63</th>\n",
       "      <td>102</td>\n",
       "      <td>Fahrzeuge</td>\n",
       "      <td>VW Golf LIP-QT 641</td>\n",
       "      <td></td>\n",
       "      <td></td>\n",
       "      <td></td>\n",
       "      <td>None</td>\n",
       "      <td>2023-10-31</td>\n",
       "    </tr>\n",
       "    <tr>\n",
       "      <th>77</th>\n",
       "      <td>118</td>\n",
       "      <td>Fahrzeuge</td>\n",
       "      <td>PB SW 3000</td>\n",
       "      <td></td>\n",
       "      <td></td>\n",
       "      <td></td>\n",
       "      <td>None</td>\n",
       "      <td>2025-10-31</td>\n",
       "    </tr>\n",
       "    <tr>\n",
       "      <th>97</th>\n",
       "      <td>139</td>\n",
       "      <td>Anhänger</td>\n",
       "      <td>LDK MD 160  Anhänger mit Auffahrrampen</td>\n",
       "      <td>LKW Anhänger mit Auffahrrampen</td>\n",
       "      <td>TÜV fällig in 07 2024</td>\n",
       "      <td>Paderborn</td>\n",
       "      <td>None</td>\n",
       "      <td>2024-07-01</td>\n",
       "    </tr>\n",
       "    <tr>\n",
       "      <th>106</th>\n",
       "      <td>149</td>\n",
       "      <td></td>\n",
       "      <td>Linde H20 (LG)</td>\n",
       "      <td>Stapler Linde H20</td>\n",
       "      <td></td>\n",
       "      <td></td>\n",
       "      <td>None</td>\n",
       "      <td>2025-07-01</td>\n",
       "    </tr>\n",
       "  </tbody>\n",
       "</table>\n",
       "</div>"
      ]
     },
     "execution_count": 15,
     "metadata": {},
     "output_type": "execute_result"
    }
   ],
   "execution_count": 15
  },
  {
   "metadata": {
    "ExecuteTime": {
     "end_time": "2025-07-24T09:30:55.735723Z",
     "start_time": "2025-07-24T09:30:55.729109Z"
    }
   },
   "cell_type": "code",
   "source": "df_ex_copy['labelIds'].apply(type).value_counts()",
   "id": "835f3d93101e7452",
   "outputs": [
    {
     "data": {
      "text/plain": [
       "labelIds\n",
       "<class 'NoneType'>    121\n",
       "<class 'str'>           6\n",
       "Name: count, dtype: int64"
      ]
     },
     "execution_count": 16,
     "metadata": {},
     "output_type": "execute_result"
    }
   ],
   "execution_count": 16
  },
  {
   "metadata": {
    "ExecuteTime": {
     "end_time": "2025-07-24T09:31:02.621762Z",
     "start_time": "2025-07-24T09:31:02.616092Z"
    }
   },
   "cell_type": "code",
   "source": [
    "label_ids = get_labelids_from_df(df_ex_copy)\n",
    "label_ids"
   ],
   "id": "b5496d8c4335fa03",
   "outputs": [
    {
     "data": {
      "text/plain": [
       "['77', '134', '135']"
      ]
     },
     "execution_count": 17,
     "metadata": {},
     "output_type": "execute_result"
    }
   ],
   "execution_count": 17
  },
  {
   "metadata": {
    "ExecuteTime": {
     "end_time": "2025-07-24T09:31:29.020135Z",
     "start_time": "2025-07-24T09:31:29.017026Z"
    }
   },
   "cell_type": "code",
   "source": [
    "label_ids_after_concat = get_labelids_from_df(df_concatenated)\n",
    "label_ids_after_concat"
   ],
   "id": "f8b1d753e8849784",
   "outputs": [
    {
     "data": {
      "text/plain": [
       "[]"
      ]
     },
     "execution_count": 18,
     "metadata": {},
     "output_type": "execute_result"
    }
   ],
   "execution_count": 18
  },
  {
   "metadata": {},
   "cell_type": "code",
   "source": "",
   "id": "b4bc13b4f8eca03f",
   "outputs": [],
   "execution_count": null
  },
  {
   "metadata": {},
   "cell_type": "code",
   "source": "",
   "id": "960bef3a93ef4a05",
   "outputs": [],
   "execution_count": null
  },
  {
   "metadata": {},
   "cell_type": "code",
   "source": "",
   "id": "54d3d6de216ad651",
   "outputs": [],
   "execution_count": null
  },
  {
   "metadata": {},
   "cell_type": "code",
   "source": "",
   "id": "6cea876c56c177ef",
   "outputs": [],
   "execution_count": null
  },
  {
   "metadata": {},
   "cell_type": "code",
   "source": "",
   "id": "da0218b92550c21a",
   "outputs": [],
   "execution_count": null
  },
  {
   "metadata": {},
   "cell_type": "code",
   "source": "",
   "id": "5036990439db9836",
   "outputs": [],
   "execution_count": null
  },
  {
   "metadata": {},
   "cell_type": "code",
   "source": "",
   "id": "e53a9c6c54668267",
   "outputs": [],
   "execution_count": null
  }
 ],
 "metadata": {
  "kernelspec": {
   "display_name": "Python 3",
   "language": "python",
   "name": "python3"
  },
  "language_info": {
   "codemirror_mode": {
    "name": "ipython",
    "version": 2
   },
   "file_extension": ".py",
   "mimetype": "text/x-python",
   "name": "python",
   "nbconvert_exporter": "python",
   "pygments_lexer": "ipython2",
   "version": "2.7.6"
  }
 },
 "nbformat": 4,
 "nbformat_minor": 5
}
