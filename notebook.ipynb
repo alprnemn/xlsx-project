{
 "cells": [
  {
   "cell_type": "code",
   "id": "initial_id",
   "metadata": {
    "collapsed": true,
    "ExecuteTime": {
     "end_time": "2025-07-24T08:36:08.834106Z",
     "start_time": "2025-07-24T08:36:07.818716Z"
    }
   },
   "source": [
    "import pandas as pd\n",
    "from utils import fetch_df_from_external_api"
   ],
   "outputs": [],
   "execution_count": 1
  },
  {
   "metadata": {
    "ExecuteTime": {
     "end_time": "2025-07-24T08:36:15.605666Z",
     "start_time": "2025-07-24T08:36:12.138453Z"
    }
   },
   "cell_type": "code",
   "source": [
    "df_ex = fetch_df_from_external_api()\n",
    "\n",
    "df_client = pd.read_csv(\"vehicles.csv\",sep=\";\")\n",
    "\n",
    "df_ex_copy = df_ex.copy()\n",
    "df_client_copy = df_client.copy()"
   ],
   "id": "7225eeed48508056",
   "outputs": [],
   "execution_count": 2
  },
  {
   "metadata": {
    "ExecuteTime": {
     "end_time": "2025-07-24T08:36:35.193502Z",
     "start_time": "2025-07-24T08:36:35.186781Z"
    }
   },
   "cell_type": "code",
   "source": "df_client_copy.info()",
   "id": "147c33aee23a672f",
   "outputs": [
    {
     "name": "stdout",
     "output_type": "stream",
     "text": [
      "<class 'pandas.core.frame.DataFrame'>\n",
      "RangeIndex: 42 entries, 0 to 41\n",
      "Data columns (total 6 columns):\n",
      " #   Column    Non-Null Count  Dtype  \n",
      "---  ------    --------------  -----  \n",
      " 0   gruppe    39 non-null     object \n",
      " 1   kurzname  42 non-null     object \n",
      " 2   langtext  31 non-null     object \n",
      " 3   info      17 non-null     object \n",
      " 4   lagerort  37 non-null     object \n",
      " 5   labelIds  3 non-null      float64\n",
      "dtypes: float64(1), object(5)\n",
      "memory usage: 2.1+ KB\n"
     ]
    }
   ],
   "execution_count": 3
  },
  {
   "metadata": {
    "ExecuteTime": {
     "end_time": "2025-07-24T08:37:52.232198Z",
     "start_time": "2025-07-24T08:37:52.227569Z"
    }
   },
   "cell_type": "code",
   "source": "df_ex_copy.info()",
   "id": "f09fa99c4634c629",
   "outputs": [
    {
     "name": "stdout",
     "output_type": "stream",
     "text": [
      "<class 'pandas.core.frame.DataFrame'>\n",
      "RangeIndex: 127 entries, 0 to 126\n",
      "Data columns (total 30 columns):\n",
      " #   Column              Non-Null Count  Dtype \n",
      "---  ------              --------------  ----- \n",
      " 0   rnr                 127 non-null    object\n",
      " 1   gruppe              127 non-null    object\n",
      " 2   kurzname            127 non-null    object\n",
      " 3   langtext            127 non-null    object\n",
      " 4   info                127 non-null    object\n",
      " 5   sort                127 non-null    object\n",
      " 6   lagerort            127 non-null    object\n",
      " 7   lteartikel          127 non-null    object\n",
      " 8   businessUnit        127 non-null    object\n",
      " 9   vondat              126 non-null    object\n",
      " 10  bisdat              8 non-null      object\n",
      " 11  hu                  29 non-null     object\n",
      " 12  asu                 8 non-null      object\n",
      " 13  createdOn           92 non-null     object\n",
      " 14  editedOn            127 non-null    object\n",
      " 15  editedBy            0 non-null      object\n",
      " 16  fuelConsumption     127 non-null    object\n",
      " 17  priceInformation    121 non-null    object\n",
      " 18  safetyCheckDate     1 non-null      object\n",
      " 19  tachographTestDate  0 non-null      object\n",
      " 20  gb1                 127 non-null    object\n",
      " 21  ownerId             1 non-null      object\n",
      " 22  userId              23 non-null     object\n",
      " 23  externalId          120 non-null    object\n",
      " 24  vin                 119 non-null    object\n",
      " 25  labelIds            6 non-null      object\n",
      " 26  customDataSchemas   127 non-null    object\n",
      " 27  bleGroupEnum        8 non-null      object\n",
      " 28  profilePictureUrl   98 non-null     object\n",
      " 29  thumbPathUrl        98 non-null     object\n",
      "dtypes: object(30)\n",
      "memory usage: 29.9+ KB\n"
     ]
    }
   ],
   "execution_count": 4
  },
  {
   "metadata": {
    "ExecuteTime": {
     "end_time": "2025-07-24T08:40:55.610228Z",
     "start_time": "2025-07-24T08:40:55.605198Z"
    }
   },
   "cell_type": "code",
   "source": "df_client_copy['kurzname'].nunique()",
   "id": "6c0f2bfcb848736e",
   "outputs": [
    {
     "data": {
      "text/plain": [
       "42"
      ]
     },
     "execution_count": 7,
     "metadata": {},
     "output_type": "execute_result"
    }
   ],
   "execution_count": 7
  },
  {
   "metadata": {
    "ExecuteTime": {
     "end_time": "2025-07-24T08:41:16.300949Z",
     "start_time": "2025-07-24T08:41:16.297695Z"
    }
   },
   "cell_type": "code",
   "source": "df_ex_copy['kurzname'].nunique()",
   "id": "9425002a40534bdd",
   "outputs": [
    {
     "data": {
      "text/plain": [
       "119"
      ]
     },
     "execution_count": 8,
     "metadata": {},
     "output_type": "execute_result"
    }
   ],
   "execution_count": 8
  },
  {
   "metadata": {
    "ExecuteTime": {
     "end_time": "2025-07-24T08:41:44.781334Z",
     "start_time": "2025-07-24T08:41:44.777769Z"
    }
   },
   "cell_type": "code",
   "source": "print(len(df_ex_copy) - df_ex_copy['kurzname'].nunique(),\"duplicated value\")",
   "id": "ed76e48864e0c64b",
   "outputs": [
    {
     "name": "stdout",
     "output_type": "stream",
     "text": [
      "8 duplicated value\n"
     ]
    }
   ],
   "execution_count": 10
  },
  {
   "metadata": {
    "ExecuteTime": {
     "end_time": "2025-07-24T08:42:34.305965Z",
     "start_time": "2025-07-24T08:42:34.302123Z"
    }
   },
   "cell_type": "code",
   "source": "df_ex_copy = df_ex_copy[['rnr','gruppe','kurzname','langtext','info','lagerort','labelIds','hu']]",
   "id": "bcf203535171974c",
   "outputs": [],
   "execution_count": 11
  },
  {
   "metadata": {
    "ExecuteTime": {
     "end_time": "2025-07-24T08:42:58.741141Z",
     "start_time": "2025-07-24T08:42:58.736156Z"
    }
   },
   "cell_type": "code",
   "source": "df_concatenated = pd.concat([df_ex_copy, df_client_copy], ignore_index=True)",
   "id": "1c81bee33874423",
   "outputs": [],
   "execution_count": 12
  },
  {
   "metadata": {
    "ExecuteTime": {
     "end_time": "2025-07-24T08:43:05.852631Z",
     "start_time": "2025-07-24T08:43:05.849360Z"
    }
   },
   "cell_type": "code",
   "source": "df_concatenated.info()",
   "id": "ff57f1e65165a104",
   "outputs": [
    {
     "name": "stdout",
     "output_type": "stream",
     "text": [
      "<class 'pandas.core.frame.DataFrame'>\n",
      "RangeIndex: 169 entries, 0 to 168\n",
      "Data columns (total 8 columns):\n",
      " #   Column    Non-Null Count  Dtype \n",
      "---  ------    --------------  ----- \n",
      " 0   rnr       127 non-null    object\n",
      " 1   gruppe    166 non-null    object\n",
      " 2   kurzname  169 non-null    object\n",
      " 3   langtext  158 non-null    object\n",
      " 4   info      144 non-null    object\n",
      " 5   lagerort  164 non-null    object\n",
      " 6   labelIds  9 non-null      object\n",
      " 7   hu        29 non-null     object\n",
      "dtypes: object(8)\n",
      "memory usage: 10.7+ KB\n"
     ]
    }
   ],
   "execution_count": 13
  },
  {
   "metadata": {
    "ExecuteTime": {
     "end_time": "2025-07-24T08:44:04.116671Z",
     "start_time": "2025-07-24T08:44:04.111203Z"
    }
   },
   "cell_type": "code",
   "source": "df_concatenated = df_concatenated.drop_duplicates(subset='kurzname', ignore_index=True)",
   "id": "b6bb523dcec07d6",
   "outputs": [],
   "execution_count": 14
  },
  {
   "metadata": {
    "ExecuteTime": {
     "end_time": "2025-07-24T08:44:09.307723Z",
     "start_time": "2025-07-24T08:44:09.303707Z"
    }
   },
   "cell_type": "code",
   "source": "df_concatenated.info()",
   "id": "5ff1d568e304452c",
   "outputs": [
    {
     "name": "stdout",
     "output_type": "stream",
     "text": [
      "<class 'pandas.core.frame.DataFrame'>\n",
      "RangeIndex: 128 entries, 0 to 127\n",
      "Data columns (total 8 columns):\n",
      " #   Column    Non-Null Count  Dtype \n",
      "---  ------    --------------  ----- \n",
      " 0   rnr       119 non-null    object\n",
      " 1   gruppe    128 non-null    object\n",
      " 2   kurzname  128 non-null    object\n",
      " 3   langtext  125 non-null    object\n",
      " 4   info      121 non-null    object\n",
      " 5   lagerort  127 non-null    object\n",
      " 6   labelIds  7 non-null      object\n",
      " 7   hu        26 non-null     object\n",
      "dtypes: object(8)\n",
      "memory usage: 8.1+ KB\n"
     ]
    }
   ],
   "execution_count": 15
  },
  {
   "metadata": {
    "ExecuteTime": {
     "end_time": "2025-07-24T08:44:30.000483Z",
     "start_time": "2025-07-24T08:44:29.995604Z"
    }
   },
   "cell_type": "code",
   "source": "df_concatenated.dropna(subset=['hu'], inplace=True)",
   "id": "f9206c92b8ccba4d",
   "outputs": [],
   "execution_count": 16
  },
  {
   "metadata": {
    "ExecuteTime": {
     "end_time": "2025-07-24T08:44:35.317002Z",
     "start_time": "2025-07-24T08:44:35.313339Z"
    }
   },
   "cell_type": "code",
   "source": "df_concatenated.info()",
   "id": "a2675d134e45a4e6",
   "outputs": [
    {
     "name": "stdout",
     "output_type": "stream",
     "text": [
      "<class 'pandas.core.frame.DataFrame'>\n",
      "Index: 26 entries, 0 to 106\n",
      "Data columns (total 8 columns):\n",
      " #   Column    Non-Null Count  Dtype \n",
      "---  ------    --------------  ----- \n",
      " 0   rnr       26 non-null     object\n",
      " 1   gruppe    26 non-null     object\n",
      " 2   kurzname  26 non-null     object\n",
      " 3   langtext  26 non-null     object\n",
      " 4   info      26 non-null     object\n",
      " 5   lagerort  26 non-null     object\n",
      " 6   labelIds  0 non-null      object\n",
      " 7   hu        26 non-null     object\n",
      "dtypes: object(8)\n",
      "memory usage: 1.8+ KB\n"
     ]
    }
   ],
   "execution_count": 17
  },
  {
   "metadata": {},
   "cell_type": "code",
   "source": "",
   "id": "860130be5b9260d3",
   "outputs": [],
   "execution_count": null
  },
  {
   "metadata": {},
   "cell_type": "code",
   "source": "",
   "id": "835f3d93101e7452",
   "outputs": [],
   "execution_count": null
  },
  {
   "metadata": {},
   "cell_type": "code",
   "source": "",
   "id": "b4bc13b4f8eca03f",
   "outputs": [],
   "execution_count": null
  },
  {
   "metadata": {},
   "cell_type": "code",
   "source": "",
   "id": "960bef3a93ef4a05",
   "outputs": [],
   "execution_count": null
  },
  {
   "metadata": {},
   "cell_type": "code",
   "source": "",
   "id": "da0218b92550c21a",
   "outputs": [],
   "execution_count": null
  },
  {
   "metadata": {},
   "cell_type": "code",
   "source": "",
   "id": "5036990439db9836",
   "outputs": [],
   "execution_count": null
  },
  {
   "metadata": {},
   "cell_type": "code",
   "source": "",
   "id": "e53a9c6c54668267",
   "outputs": [],
   "execution_count": null
  }
 ],
 "metadata": {
  "kernelspec": {
   "display_name": "Python 3",
   "language": "python",
   "name": "python3"
  },
  "language_info": {
   "codemirror_mode": {
    "name": "ipython",
    "version": 2
   },
   "file_extension": ".py",
   "mimetype": "text/x-python",
   "name": "python",
   "nbconvert_exporter": "python",
   "pygments_lexer": "ipython2",
   "version": "2.7.6"
  }
 },
 "nbformat": 4,
 "nbformat_minor": 5
}
